{
  "nbformat": 4,
  "nbformat_minor": 0,
  "metadata": {
    "colab": {
      "provenance": [],
      "machine_shape": "hm"
    },
    "kernelspec": {
      "name": "python3",
      "display_name": "Python 3"
    },
    "language_info": {
      "name": "python"
    }
  },
  "cells": [
    {
      "cell_type": "code",
      "execution_count": null,
      "metadata": {
        "colab": {
          "base_uri": "https://localhost:8080/",
          "height": 311
        },
        "id": "S0MLQ9-UF9cn",
        "outputId": "39a75ab9-9c3b-40f5-88b9-053bbdcd79ad"
      },
      "outputs": [
        {
          "output_type": "error",
          "ename": "MessageError",
          "evalue": "Error: credential propagation was unsuccessful",
          "traceback": [
            "\u001b[0;31m---------------------------------------------------------------------------\u001b[0m",
            "\u001b[0;31mMessageError\u001b[0m                              Traceback (most recent call last)",
            "\u001b[0;32m<ipython-input-1-d5df0069828e>\u001b[0m in \u001b[0;36m<cell line: 2>\u001b[0;34m()\u001b[0m\n\u001b[1;32m      1\u001b[0m \u001b[0;32mfrom\u001b[0m \u001b[0mgoogle\u001b[0m\u001b[0;34m.\u001b[0m\u001b[0mcolab\u001b[0m \u001b[0;32mimport\u001b[0m \u001b[0mdrive\u001b[0m\u001b[0;34m\u001b[0m\u001b[0;34m\u001b[0m\u001b[0m\n\u001b[0;32m----> 2\u001b[0;31m \u001b[0mdrive\u001b[0m\u001b[0;34m.\u001b[0m\u001b[0mmount\u001b[0m\u001b[0;34m(\u001b[0m\u001b[0;34m'/content/drive'\u001b[0m\u001b[0;34m)\u001b[0m\u001b[0;34m\u001b[0m\u001b[0;34m\u001b[0m\u001b[0m\n\u001b[0m",
            "\u001b[0;32m/usr/local/lib/python3.10/dist-packages/google/colab/drive.py\u001b[0m in \u001b[0;36mmount\u001b[0;34m(mountpoint, force_remount, timeout_ms, readonly)\u001b[0m\n\u001b[1;32m     98\u001b[0m \u001b[0;32mdef\u001b[0m \u001b[0mmount\u001b[0m\u001b[0;34m(\u001b[0m\u001b[0mmountpoint\u001b[0m\u001b[0;34m,\u001b[0m \u001b[0mforce_remount\u001b[0m\u001b[0;34m=\u001b[0m\u001b[0;32mFalse\u001b[0m\u001b[0;34m,\u001b[0m \u001b[0mtimeout_ms\u001b[0m\u001b[0;34m=\u001b[0m\u001b[0;36m120000\u001b[0m\u001b[0;34m,\u001b[0m \u001b[0mreadonly\u001b[0m\u001b[0;34m=\u001b[0m\u001b[0;32mFalse\u001b[0m\u001b[0;34m)\u001b[0m\u001b[0;34m:\u001b[0m\u001b[0;34m\u001b[0m\u001b[0;34m\u001b[0m\u001b[0m\n\u001b[1;32m     99\u001b[0m   \u001b[0;34m\"\"\"Mount your Google Drive at the specified mountpoint path.\"\"\"\u001b[0m\u001b[0;34m\u001b[0m\u001b[0;34m\u001b[0m\u001b[0m\n\u001b[0;32m--> 100\u001b[0;31m   return _mount(\n\u001b[0m\u001b[1;32m    101\u001b[0m       \u001b[0mmountpoint\u001b[0m\u001b[0;34m,\u001b[0m\u001b[0;34m\u001b[0m\u001b[0;34m\u001b[0m\u001b[0m\n\u001b[1;32m    102\u001b[0m       \u001b[0mforce_remount\u001b[0m\u001b[0;34m=\u001b[0m\u001b[0mforce_remount\u001b[0m\u001b[0;34m,\u001b[0m\u001b[0;34m\u001b[0m\u001b[0;34m\u001b[0m\u001b[0m\n",
            "\u001b[0;32m/usr/local/lib/python3.10/dist-packages/google/colab/drive.py\u001b[0m in \u001b[0;36m_mount\u001b[0;34m(mountpoint, force_remount, timeout_ms, ephemeral, readonly)\u001b[0m\n\u001b[1;32m    135\u001b[0m   )\n\u001b[1;32m    136\u001b[0m   \u001b[0;32mif\u001b[0m \u001b[0mephemeral\u001b[0m\u001b[0;34m:\u001b[0m\u001b[0;34m\u001b[0m\u001b[0;34m\u001b[0m\u001b[0m\n\u001b[0;32m--> 137\u001b[0;31m     _message.blocking_request(\n\u001b[0m\u001b[1;32m    138\u001b[0m         \u001b[0;34m'request_auth'\u001b[0m\u001b[0;34m,\u001b[0m\u001b[0;34m\u001b[0m\u001b[0;34m\u001b[0m\u001b[0m\n\u001b[1;32m    139\u001b[0m         \u001b[0mrequest\u001b[0m\u001b[0;34m=\u001b[0m\u001b[0;34m{\u001b[0m\u001b[0;34m'authType'\u001b[0m\u001b[0;34m:\u001b[0m \u001b[0;34m'dfs_ephemeral'\u001b[0m\u001b[0;34m}\u001b[0m\u001b[0;34m,\u001b[0m\u001b[0;34m\u001b[0m\u001b[0;34m\u001b[0m\u001b[0m\n",
            "\u001b[0;32m/usr/local/lib/python3.10/dist-packages/google/colab/_message.py\u001b[0m in \u001b[0;36mblocking_request\u001b[0;34m(request_type, request, timeout_sec, parent)\u001b[0m\n\u001b[1;32m    174\u001b[0m       \u001b[0mrequest_type\u001b[0m\u001b[0;34m,\u001b[0m \u001b[0mrequest\u001b[0m\u001b[0;34m,\u001b[0m \u001b[0mparent\u001b[0m\u001b[0;34m=\u001b[0m\u001b[0mparent\u001b[0m\u001b[0;34m,\u001b[0m \u001b[0mexpect_reply\u001b[0m\u001b[0;34m=\u001b[0m\u001b[0;32mTrue\u001b[0m\u001b[0;34m\u001b[0m\u001b[0;34m\u001b[0m\u001b[0m\n\u001b[1;32m    175\u001b[0m   )\n\u001b[0;32m--> 176\u001b[0;31m   \u001b[0;32mreturn\u001b[0m \u001b[0mread_reply_from_input\u001b[0m\u001b[0;34m(\u001b[0m\u001b[0mrequest_id\u001b[0m\u001b[0;34m,\u001b[0m \u001b[0mtimeout_sec\u001b[0m\u001b[0;34m)\u001b[0m\u001b[0;34m\u001b[0m\u001b[0;34m\u001b[0m\u001b[0m\n\u001b[0m",
            "\u001b[0;32m/usr/local/lib/python3.10/dist-packages/google/colab/_message.py\u001b[0m in \u001b[0;36mread_reply_from_input\u001b[0;34m(message_id, timeout_sec)\u001b[0m\n\u001b[1;32m    101\u001b[0m     ):\n\u001b[1;32m    102\u001b[0m       \u001b[0;32mif\u001b[0m \u001b[0;34m'error'\u001b[0m \u001b[0;32min\u001b[0m \u001b[0mreply\u001b[0m\u001b[0;34m:\u001b[0m\u001b[0;34m\u001b[0m\u001b[0;34m\u001b[0m\u001b[0m\n\u001b[0;32m--> 103\u001b[0;31m         \u001b[0;32mraise\u001b[0m \u001b[0mMessageError\u001b[0m\u001b[0;34m(\u001b[0m\u001b[0mreply\u001b[0m\u001b[0;34m[\u001b[0m\u001b[0;34m'error'\u001b[0m\u001b[0;34m]\u001b[0m\u001b[0;34m)\u001b[0m\u001b[0;34m\u001b[0m\u001b[0;34m\u001b[0m\u001b[0m\n\u001b[0m\u001b[1;32m    104\u001b[0m       \u001b[0;32mreturn\u001b[0m \u001b[0mreply\u001b[0m\u001b[0;34m.\u001b[0m\u001b[0mget\u001b[0m\u001b[0;34m(\u001b[0m\u001b[0;34m'data'\u001b[0m\u001b[0;34m,\u001b[0m \u001b[0;32mNone\u001b[0m\u001b[0;34m)\u001b[0m\u001b[0;34m\u001b[0m\u001b[0;34m\u001b[0m\u001b[0m\n\u001b[1;32m    105\u001b[0m \u001b[0;34m\u001b[0m\u001b[0m\n",
            "\u001b[0;31mMessageError\u001b[0m: Error: credential propagation was unsuccessful"
          ]
        }
      ],
      "source": [
        "from google.colab import drive\n",
        "drive.mount('/content/drive')"
      ]
    },
    {
      "cell_type": "code",
      "source": [
        "# INSTALLING REQUIRED LIBRARIES\n",
        "!pip install -U pyproj -q\n",
        "!pip install -U utm -q\n",
        "!pip install -U google-colab -q\n",
        "!pip install -U tornado -q\n",
        "!pip install geemap -q\n",
        "!pip install wxee"
      ],
      "metadata": {
        "id": "rNzf-KqS1Ss0"
      },
      "execution_count": null,
      "outputs": []
    },
    {
      "cell_type": "code",
      "source": [
        "!pip install rioxarray\n",
        "import xarray as xr\n",
        "import rioxarray as rxr\n",
        "import pandas as pd\n",
        "import numpy as np\n",
        "import matplotlib.pyplot as plt"
      ],
      "metadata": {
        "id": "ixFE865_yk1V"
      },
      "execution_count": null,
      "outputs": []
    },
    {
      "cell_type": "code",
      "source": [
        "# !earthengine authenticate\n",
        "import ee\n",
        "import os\n",
        "\n",
        "# Set the path to the service account key file\n",
        "service_account = 'editor@ee-manmeet20singh15-wbis.iam.gserviceaccount.com'\n",
        "key_file = 'drive/MyDrive/earth_engine/ee-manmeet20singh15-wbis-fab7f1ca35e0.json'\n",
        "\n",
        "# Use the service account for authentication\n",
        "credentials = ee.ServiceAccountCredentials(service_account, key_file)\n",
        "ee.Initialize(credentials)"
      ],
      "metadata": {
        "id": "d3FztcdA2tHZ"
      },
      "execution_count": null,
      "outputs": []
    },
    {
      "cell_type": "code",
      "source": [
        "import ee\n",
        "import wxee\n",
        "#wxee.Initialize()"
      ],
      "metadata": {
        "id": "pUT88EH62u9V"
      },
      "execution_count": null,
      "outputs": []
    },
    {
      "cell_type": "code",
      "source": [
        "lat_diff = 0\n",
        "lon_diff = 0\n",
        "aoi = ee.Geometry.Polygon(\n",
        "        [[[-125, 32],\n",
        "          [-113, 32],\n",
        "          [-113, 42],\n",
        "          [-125, 42]]])"
      ],
      "metadata": {
        "id": "ZRM9WZDm2x91"
      },
      "execution_count": null,
      "outputs": []
    },
    {
      "cell_type": "code",
      "source": [
        "!ls drive/MyDrive/long_ndui/"
      ],
      "metadata": {
        "id": "AvUGIdhDGJV1"
      },
      "execution_count": null,
      "outputs": []
    },
    {
      "cell_type": "code",
      "source": [
        "df = pd.read_csv('/content/drive/MyDrive/long_ndui//long_dmsp_9_cities.csv')\n",
        "print(df)"
      ],
      "metadata": {
        "id": "G0aNZ0j_O4g9"
      },
      "execution_count": null,
      "outputs": []
    },
    {
      "cell_type": "code",
      "source": [
        "city_name=[]\n",
        "for i in range(len(df.Name)):\n",
        "  city = str(df.Name[i])\n",
        "  city_name.append(city)\n",
        "city_name"
      ],
      "metadata": {
        "id": "n8ckHMl4R00A"
      },
      "execution_count": null,
      "outputs": []
    },
    {
      "cell_type": "code",
      "source": [
        "du=[]\n",
        "du_=[]\n",
        "for i in range(len(df.Name)):\n",
        "    du1 = xr.open_dataset('/content/drive/MyDrive/long_ndui/'+city_name[i]+'/ndui_'+city_name[i]+'_1999_2022.nc')\n",
        "    du2 = du1.rename({'ndui':'ndui_'+str(city_name[i])}).mean(['lat', 'lon'])\n",
        "    du.append(du2)\n",
        "    du_.append(du1)"
      ],
      "metadata": {
        "id": "2b8wt0OARjlf"
      },
      "execution_count": null,
      "outputs": []
    },
    {
      "cell_type": "code",
      "source": [
        "du1"
      ],
      "metadata": {
        "id": "CpYCYer1JNCS"
      },
      "execution_count": null,
      "outputs": []
    },
    {
      "cell_type": "code",
      "source": [
        "print(du1.lon.max().values, du1.lon.min().values)\n",
        "print(du1.lat.max().values, du1.lat.min().values)"
      ],
      "metadata": {
        "id": "dNoXjvsa3ehR"
      },
      "execution_count": null,
      "outputs": []
    },
    {
      "cell_type": "code",
      "source": [
        "import ee  # Importing Earth Engine\n",
        "\n",
        "\n",
        "# Dictionary to hold each city's AOI\n",
        "city_aoi = {}\n",
        "for i in range(len(df.Name)):\n",
        "    # Coordinates from du1\n",
        "    lon_max = du_[i].lon.max().item()\n",
        "    lon_min = du_[i].lon.min().item()\n",
        "    lat_max = du_[i].lat.max().item()\n",
        "    lat_min = du_[i].lat.min().item()\n",
        "\n",
        "    # Define the AOI using these coordinates\n",
        "    aoi = ee.Geometry.Polygon([\n",
        "        [\n",
        "            [lon_min, lat_min],  # Bottom-left corner\n",
        "            [lon_max, lat_min],  # Bottom-right corner\n",
        "            [lon_max, lat_max],  # Top-right corner\n",
        "            [lon_min, lat_max],  # Top-left corner\n",
        "        ]\n",
        "    ])\n",
        "\n",
        "    city_aoi[str(df.Name[i])] = aoi\n",
        "\n",
        "# Example to print the AOI of a city\n",
        "for city_name, aoi in city_aoi.items():\n",
        "    print(f\"{city_name} AOI: {aoi.getInfo()}\")"
      ],
      "metadata": {
        "id": "sOgho4dl4wfd"
      },
      "execution_count": null,
      "outputs": []
    },
    {
      "cell_type": "code",
      "source": [
        "city_aoi['austin']"
      ],
      "metadata": {
        "id": "uO2Gb4l9-oaJ"
      },
      "execution_count": null,
      "outputs": []
    },
    {
      "cell_type": "code",
      "source": [
        "start_date = '2023-01-01'\n",
        "end_date = '2023-12-31'\n",
        "dataset = ee.ImageCollection('GOOGLE/DYNAMICWORLD/V1') \\\n",
        "            .filterDate(start_date, end_date).select('built').mean()\n",
        "dataset = dataset.set('system:time_start', 0)\n",
        "ds_built = dataset.wx.to_xarray(region=city_aoi['austin'].bounds(), scale=30)"
      ],
      "metadata": {
        "id": "aJdyQSz3-oGV"
      },
      "execution_count": null,
      "outputs": []
    },
    {
      "cell_type": "code",
      "source": [
        "ds_built_ = []\n",
        "for city_name, aoi in city_aoi.items():\n",
        "    print(f\"{city_name} AOI: {aoi.getInfo()}\")\n",
        "    ds_built = dataset.wx.to_xarray(region=aoi.bounds(), scale=30)\n",
        "    ds_built.to_netcdf('/content/drive/MyDrive/earth_engine/dynamic_world_built_'+str(city_name)+'.nc')"
      ],
      "metadata": {
        "id": "egiD8pimDf7K"
      },
      "execution_count": null,
      "outputs": []
    },
    {
      "cell_type": "code",
      "source": [
        "ds_built"
      ],
      "metadata": {
        "id": "a04YFAA4-K9h"
      },
      "execution_count": null,
      "outputs": []
    },
    {
      "cell_type": "code",
      "source": [
        "du1"
      ],
      "metadata": {
        "id": "BvOeBzfBCrAt"
      },
      "execution_count": null,
      "outputs": []
    },
    {
      "cell_type": "code",
      "source": [
        "city_name"
      ],
      "metadata": {
        "id": "h_d2cYX2DFoc"
      },
      "execution_count": null,
      "outputs": []
    },
    {
      "cell_type": "code",
      "source": [
        "# mkdir /content/drive/MyDrive/NLCD_data/cities"
      ],
      "metadata": {
        "id": "Dhiv_X8_KdFM"
      },
      "execution_count": null,
      "outputs": []
    },
    {
      "cell_type": "code",
      "source": [
        "ls /content/drive/MyDrive/NLCD_data/"
      ],
      "metadata": {
        "id": "aBrQCGMTKhxF"
      },
      "execution_count": null,
      "outputs": []
    },
    {
      "cell_type": "markdown",
      "source": [
        "##Extract NLCD for a given city in csv file"
      ],
      "metadata": {
        "id": "A2R3GmlrchJB"
      }
    },
    {
      "cell_type": "code",
      "source": [
        "# dy = [2001, 2004, 2006, 2008, 2011, 2013, 2016, 2019, 2021]\n",
        "# dn = []\n",
        "# dc = []\n",
        "# for i in range(3):\n",
        "#   for j in range(4):\n",
        "#     dn1 = rxr.open_rasterio('/content/drive/MyDrive/NLCD_data/'+'nlcd'+str(dy[j])+'.tif')\n",
        "#     dn1 = dn1.rename('nlcd_'+str(city_name[i]))\n",
        "#     dn2 = dn1.assign_coords(time=dy[j]).isel(band=0).drop(['band','spatial_ref'])\n",
        "#     dn3 = dn2.sel(x=slice(df.lon[i]-0.25,df.lon[i]+0.25), y= slice(df.lat[i]+0.25,df.lat[i]-0.25))\n",
        "#     dn4 = dn3.expand_dims(dim='time', axis=0).astype(np.int64)\n",
        "#     dn4 = dn4.to_dataset()\n",
        "#     dn.append(dn4)\n",
        "#   dc_dn = xr.concat(dn, dim='time')\n",
        "#   dn=[]\n",
        "#   dc.append(dc_dn)\n",
        "#   # dc[i].to_netcdf('/content/drive/MyDrive/NLCD_data/cities/nlcd_'+str(city_name[i])+'_2001_2021.nc')\n",
        "# dc[0]\n"
      ],
      "metadata": {
        "id": "ISuH3OkCLKH1"
      },
      "execution_count": null,
      "outputs": []
    },
    {
      "cell_type": "code",
      "source": [],
      "metadata": {
        "id": "heX8a_3hc5Y9"
      },
      "execution_count": null,
      "outputs": []
    },
    {
      "cell_type": "code",
      "source": [],
      "metadata": {
        "id": "7UrNT5Ulc5nP"
      },
      "execution_count": null,
      "outputs": []
    },
    {
      "cell_type": "markdown",
      "source": [
        "##NLCD Growth rate"
      ],
      "metadata": {
        "id": "VQNCKsv6c6_-"
      }
    },
    {
      "cell_type": "code",
      "source": [
        "# dy = [2001, 2004, 2006, 2008, 2011, 2013, 2016, 2019, 2021]\n",
        "# dn = []\n",
        "# dng= []\n",
        "# dc = []\n",
        "# for i in range(3):\n",
        "#   for j in range(3):\n",
        "#     dn1 = rxr.open_rasterio('/content/drive/MyDrive/NLCD_data/'+'nlcd'+str(dy[j])+'.tif')\n",
        "#     dn1 = dn1.rename('nlcd_'+str(city_name[i]))\n",
        "#     dn2 = dn1.sel(x=slice(df.lon[i]-0.25,df.lon[i]+0.25), y= slice(df.lat[i]+0.25,df.lat[i]-0.25))\n",
        "#     dn3 = dn2.assign_coords(time=dy[j]).isel(band=0).drop(['band','spatial_ref'])\n",
        "#     dn3 = dn3.expand_dims(dim='time', axis=0)\n",
        "#     dn4 = dn3.mean(['x','y'])\n",
        "#     dn4 = dn4.to_dataset()\n",
        "#     dn.append(dn4)\n",
        "#     print(dn[j]['nlcd_'+str(city_name[i])])\n",
        "#     if j==0:\n",
        "\n",
        "#       dgi = 0\n",
        "#     else:\n",
        "#       dgi = (dn[j]['nlcd_'+str(city_name[i])]- dn[j-1]['nlcd_'+str(city_name[i])])*100/dn[j]['nlcd_'+str(city_name[i])]\n",
        "#     dn4['nlcd_'+str(city_name[i])+'_gwr'] = dgi\n",
        "#     print(dn4)\n",
        "#     dng.append(dn4)\n",
        "#   dc_dn = xr.concat(dng, dim='time')\n",
        "#   dn=[]\n",
        "#   dng=[]\n",
        "#   dc.append(dc_dn)\n",
        "#   # dc[i].to_netcdf('/content/drive/MyDrive/NLCD_data/cities/nlcd_'+str(city_name[i])+'_2001_2021.nc')\n",
        "# dc[0]"
      ],
      "metadata": {
        "id": "l0x7XcaVcrNb"
      },
      "execution_count": null,
      "outputs": []
    },
    {
      "cell_type": "code",
      "source": [
        "# dy = [2001, 2004, 2006, 2008, 2011, 2013, 2016, 2019, 2021]\n",
        "# dn = []\n",
        "# dng= []\n",
        "# dc = []\n",
        "# for i in range(3):\n",
        "#   for j in range(3):\n",
        "#     dn1 = rxr.open_rasterio('/content/drive/MyDrive/NLCD_data/'+'nlcd'+str(dy[j])+'.tif')\n",
        "#     dn1 = dn1.rename('nlcd_'+str(city_name[i]))\n",
        "#     dn2 = dn1.sel(x=slice(df.lon[i]-0.25,df.lon[i]+0.25), y= slice(df.lat[i]+0.25,df.lat[i]-0.25))\n",
        "#     dn3 = dn2.assign_coords(time=dy[j]).isel(band=0).drop(['band','spatial_ref'])\n",
        "#     dn3 = dn3.expand_dims(dim='time', axis=0)\n",
        "#     dn4 = dn3.mean(['x','y'])\n",
        "#     dn4 = dn4.to_dataset()\n",
        "#     dn.append(dn4)\n",
        "#     print(dn[j]['nlcd_'+str(city_name[i])])\n",
        "#     if j==0:\n",
        "#       dgi = 0\n",
        "#     else:\n",
        "#       dgi = (dn[j]['nlcd_'+str(city_name[i])]- dn[j-1]['nlcd_'+str(city_name[i])])*100/dn[j]['nlcd_'+str(city_name[i])]\n",
        "#     dn4['nlcd_'+str(city_name[i])+'_gwr'] = dgi\n",
        "#     print(dn4)\n",
        "#     dng.append(dn4)\n",
        "#   dc_dn = xr.concat(dng, dim='time')\n",
        "#   dn=[]\n",
        "#   dng=[]\n",
        "#   dc.append(dc_dn)\n",
        "#   # dc[i].to_netcdf('/content/drive/MyDrive/NLCD_data/cities/nlcd_'+str(city_name[i])+'_2001_2021.nc')\n",
        "# dc[0]"
      ],
      "metadata": {
        "id": "F56YE39BlYaP"
      },
      "execution_count": null,
      "outputs": []
    },
    {
      "cell_type": "markdown",
      "source": [
        "##NLCD timeseries of Urban imperviousness mean over a city"
      ],
      "metadata": {
        "id": "eeBUqbstcrdW"
      }
    },
    {
      "cell_type": "code",
      "source": [
        "dy = [2001, 2004, 2006, 2008, 2011, 2013, 2016, 2019, 2021]\n",
        "dn = []\n",
        "dc = []\n",
        "for i in range(len(city_name)):\n",
        "  for j in range(len(dy)):\n",
        "    dn1 = rxr.open_rasterio('/content/drive/MyDrive/NLCD_data/'+'nlcd'+str(dy[j])+'.tif')\n",
        "    dn1 = dn1.rename('nlcd_'+str(city_name[i]))\n",
        "    dn2 = dn1.sel(x=slice(df.lon[i]-0.25,df.lon[i]+0.25), y= slice(df.lat[i]+0.25,df.lat[i]-0.25))\n",
        "    dn3 = dn2.assign_coords(time=dy[j]).isel(band=0).drop(['band','spatial_ref'])\n",
        "    dn3 = dn3.expand_dims(dim='time', axis=0)\n",
        "    dn4 = dn3.mean(['x','y'])\n",
        "    dn4 = dn4.to_dataset()\n",
        "    dn.append(dn4)\n",
        "  dc_dn = xr.concat(dn, dim='time')\n",
        "  dn=[]\n",
        "  dc.append(dc_dn)\n",
        "  # dc[i].to_netcdf('/content/drive/MyDrive/NLCD_data/cities/nlcd_'+str(city_name[i])+'_2001_2021.nc')\n",
        "dc[0]\n"
      ],
      "metadata": {
        "id": "t-xieQAHZvaq"
      },
      "execution_count": null,
      "outputs": []
    },
    {
      "cell_type": "code",
      "source": [
        "dcg= dc\n",
        "dcg"
      ],
      "metadata": {
        "id": "BS8bs6iAqdyM"
      },
      "execution_count": null,
      "outputs": []
    },
    {
      "cell_type": "code",
      "source": [
        "dgr=[]\n",
        "for i in range(len(city_name)):\n",
        "  for j in range(len(dcg[i].time)):\n",
        "    if j==0:\n",
        "      # print(j, dn[j]['nlcd_'+str(city_name[i])])\n",
        "      dgi = 0\n",
        "    else:\n",
        "      # print(j, dn[j]['nlcd_'+str(city_name[i])], dn[j-1]['nlcd_'+str(city_name[i])] )\n",
        "      dgi = (dcg[i]['nlcd_'+str(city_name[i])].isel(time=j).values- dcg[i]['nlcd_'+str(city_name[i])].isel(time=j-1).values)*100/(dcg[i]['nlcd_'+str(city_name[i])].isel(time=j).values)\n",
        "    dgr.append(dgi)\n",
        "  print(dgr)\n",
        "  dcg[i]['nlcd_'+str(city_name[i])+'_gwr']= (('time'), dgr)\n",
        "  dgr=[]\n",
        "dcg[0]\n"
      ],
      "metadata": {
        "id": "hOC5mcXNqd1v"
      },
      "execution_count": null,
      "outputs": []
    },
    {
      "cell_type": "code",
      "source": [
        "dcg[1]"
      ],
      "metadata": {
        "id": "a1XhWqAirKr5"
      },
      "execution_count": null,
      "outputs": []
    },
    {
      "cell_type": "code",
      "source": [
        "dc[0].time"
      ],
      "metadata": {
        "id": "Bf5gBPRRsmei"
      },
      "execution_count": null,
      "outputs": []
    },
    {
      "cell_type": "code",
      "source": [
        "# (dc[0].isel(time=1)- dc[0].isel(time=0))*100/dc[0].isel(time=1)"
      ],
      "metadata": {
        "id": "Aslgohtnr6yt"
      },
      "execution_count": null,
      "outputs": []
    },
    {
      "cell_type": "code",
      "source": [],
      "metadata": {
        "id": "GfLOR6mO89Iv"
      },
      "execution_count": null,
      "outputs": []
    },
    {
      "cell_type": "markdown",
      "source": [
        "## Subplots for NDUI_NLCD"
      ],
      "metadata": {
        "id": "LfxKhk8L89tx"
      }
    },
    {
      "cell_type": "code",
      "source": [
        "import matplotlib.pyplot as plt\n",
        "\n",
        "fig, axs = plt.subplots(3, 3, figsize=(11, 8), sharex=True)\n",
        "\n",
        "for i in range(3):\n",
        "    for j in range(3):\n",
        "        ax1 = axs[i, j]\n",
        "        line1 = ax1.plot(du[i * 3 + j].time.dt.year, du[i * 3 + j]['ndui_'+str(city_name[i*3+j])], color='r', label=f'DMSP Dataset A {i * 3 + j}')\n",
        "        ax1.set_ylabel('long-ndui')\n",
        "\n",
        "        ax2 = ax1.twinx()\n",
        "        line3 = ax2.plot(dcg[i * 3 + j].time, dcg[i * 3 + j]['nlcd_'+str(city_name[i*3+j])], color='k', label=f'NLCD-Urban Imperviousness {i * 3 + j}')\n",
        "        ax2.set_ylabel('Growth Rate (%)')\n",
        "\n",
        "        lines1, labels1 = ax1.get_legend_handles_labels()\n",
        "        lines2, labels2 = ax2.get_legend_handles_labels()\n",
        "\n",
        "        lines = lines1 + lines2\n",
        "        labels = labels1 + labels2\n",
        "\n",
        "        ax1.legend(lines, labels, loc='upper left')\n",
        "        ax1.set_title(city_name[i*3+j])\n",
        "plt.tight_layout()\n",
        "fig.suptitle('Interannual NDUI time series', fontsize=20)\n",
        "plt.savefig('ndui_time_series.png', dpi=500)"
      ],
      "metadata": {
        "id": "4Ln5PT2053Et"
      },
      "execution_count": null,
      "outputs": []
    },
    {
      "cell_type": "code",
      "source": [],
      "metadata": {
        "id": "OQBEzvqd9CUM"
      },
      "execution_count": null,
      "outputs": []
    },
    {
      "cell_type": "markdown",
      "source": [
        "## Subplot for NDUI and NLCD Growth rate"
      ],
      "metadata": {
        "id": "syhEiYYS9C9-"
      }
    },
    {
      "cell_type": "code",
      "source": [
        "import matplotlib.pyplot as plt\n",
        "\n",
        "fig, axs = plt.subplots(3, 3, figsize=(11, 8))\n",
        "plt.subplots_adjust(wspace=0.5, hspace=0.4)\n",
        "\n",
        "for i in range(3):\n",
        "    for j in range(3):\n",
        "        ax1 = axs[i, j]\n",
        "        line1 = ax1.plot(du[i * 3 + j].time.dt.year, du[i * 3 + j]['ndui_'+str(city_name[i*3+j])], color='r', label=f'NDUI+')\n",
        "        ax1.set_ylabel('long-ndui')\n",
        "\n",
        "        ax2 = ax1.twinx()\n",
        "        line3 = ax2.plot(dcg[i * 3 + j].time, dcg[i * 3 + j]['nlcd_'+str(city_name[i*3+j])+'_gwr'], color='k', label=f'NLCD-Urban Imperviousness')\n",
        "        ax2.set_ylabel('Growth Rate (%)')\n",
        "\n",
        "        lines1, labels1 = ax1.get_legend_handles_labels()\n",
        "        lines2, labels2 = ax2.get_legend_handles_labels()\n",
        "\n",
        "        lines = lines1 + lines2\n",
        "        labels = labels1 + labels2\n",
        "\n",
        "        # ax1.legend(lines, labels, loc='upper left')\n",
        "        ax1.set_title(city_name[i*3+j])\n",
        "\n",
        "fig.suptitle('NDUI+ NLCD Interannual time series', fontsize=20)\n",
        "fig.legend(lines, labels)\n",
        "plt.savefig('ndui_nlcd_gwr.png', dpi=600, bbox_inches='tight')\n",
        "plt.show()\n",
        "from google.colab import files\n",
        "\n",
        "# Replace 'your_file_name.ext' with the actual file name and extension\n",
        "files.download('ndui_nlcd_gwr.png')"
      ],
      "metadata": {
        "id": "z-dzCtdk9Jvj"
      },
      "execution_count": null,
      "outputs": []
    },
    {
      "cell_type": "code",
      "source": [
        "import matplotlib.pyplot as plt\n",
        "\n",
        "fig, axs = plt.subplots(3, 3, figsize=(11, 8))\n",
        "plt.subplots_adjust(wspace=0.5, hspace=0.4)\n",
        "\n",
        "for i in range(3):\n",
        "    for j in range(3):\n",
        "        ax1 = axs[i, j]\n",
        "        line1 = ax1.plot(du[i * 3 + j].time.dt.year, du[i * 3 + j]['ndui_'+str(city_name[i*3+j])], color='r', label=f'NDUI+')\n",
        "        ax1.set_ylabel('NDUI+')\n",
        "\n",
        "        # ax2 = ax1.twinx()\n",
        "        # line3 = ax2.plot(dcg[i * 3 + j].time, dcg[i * 3 + j]['nlcd_'+str(city_name[i*3+j])+'_gwr'], color='k', label=f'NLCD-Urban Imperviousness')\n",
        "        # ax2.set_ylabel('Growth Rate (%)')\n",
        "\n",
        "        lines1, labels1 = ax1.get_legend_handles_labels()\n",
        "        # lines2, labels2 = ax2.get_legend_handles_labels()\n",
        "\n",
        "        # lines = lines1 + lines2\n",
        "        # labels = labels1 + labels2\n",
        "\n",
        "        # ax1.legend(lines, labels, loc='upper left')\n",
        "        ax1.set_title(city_name[i*3+j])\n",
        "\n",
        "fig.suptitle('NDUI+ Interannual time series', fontsize=20)\n",
        "fig.legend(lines1, labels1)\n",
        "plt.savefig('ndui_time_series.png', dpi=600, bbox_inches='tight')\n",
        "plt.show()\n",
        "from google.colab import files\n",
        "\n",
        "# Replace 'your_file_name.ext' with the actual file name and extension\n",
        "files.download('ndui_time_series.png')"
      ],
      "metadata": {
        "id": "qX0GG20XtPao"
      },
      "execution_count": null,
      "outputs": []
    },
    {
      "cell_type": "code",
      "source": [
        "#!ls /content/drive/MyDrive/NLCD_data/cities/"
      ],
      "metadata": {
        "id": "FZxoxZutfGGJ"
      },
      "execution_count": null,
      "outputs": []
    },
    {
      "cell_type": "code",
      "source": [
        "# for i in range(9):\n",
        "#   dcg[i].to_netcdf('/content/drive/MyDrive/NLCD_data/cities/nlcd_ui_gwr_'+str(city_name[i])+'.nc')"
      ],
      "metadata": {
        "id": "qhFT5BfBVRdJ"
      },
      "execution_count": null,
      "outputs": []
    },
    {
      "cell_type": "code",
      "source": [
        "!ls /content/drive/MyDrive/earth_engine/dynamic_world_built_2015_2024.nc"
      ],
      "metadata": {
        "id": "v98bhjR9ufxl"
      },
      "execution_count": null,
      "outputs": []
    },
    {
      "cell_type": "code",
      "source": [
        "du[1]"
      ],
      "metadata": {
        "id": "HHfbStRJmFDk"
      },
      "execution_count": null,
      "outputs": []
    },
    {
      "cell_type": "code",
      "source": [
        "ds_built = xr.open_dataset('/content/drive/MyDrive/earth_engine/dynamic_world_built_2015_2024.nc').mean(['x', 'y'])\n",
        "built = ((ds_built.built - ds_built.built.mean(dim='year'))/(ds_built.built.std(dim='year')))* du[1].ndui_austin.std(dim='time') + du[1].ndui_austin.mean(dim='time')\n",
        "built_ = built.values\n",
        "time_built = ds_built.year.values\n",
        "ds_built\n"
      ],
      "metadata": {
        "id": "nP8gtoGDmXag"
      },
      "execution_count": null,
      "outputs": []
    },
    {
      "cell_type": "code",
      "source": [
        "import xarray as xr\n",
        "import seaborn as sns\n",
        "import matplotlib.pyplot as plt\n",
        "import pandas as pd\n",
        "\n",
        "# Convert to pandas DataFrame for Seaborn plotting\n",
        "df_built = pd.DataFrame({\n",
        "    'Time': time_built,\n",
        "    'Dynamic World Built up': built_\n",
        "})\n",
        "\n",
        "# Plot using Seaborn\n",
        "plt.figure(figsize=(12, 8))\n",
        "sns.lineplot(x='Time', y='Dynamic World Built up', data=df_built, label='Dynamic World Built up')\n",
        "\n",
        "# Customize the plot\n",
        "plt.title('Dynamic World Built up over Time')\n",
        "plt.xlabel('Year')\n",
        "plt.ylabel('Normalized Value')\n",
        "\n",
        "plt.legend()\n",
        "plt.show()"
      ],
      "metadata": {
        "id": "2g-pS-dso4UM"
      },
      "execution_count": null,
      "outputs": []
    },
    {
      "cell_type": "code",
      "source": [
        "fig, ax = plt.subplots(1, 1, figsize=(12, 10))\n",
        "\n",
        "\n",
        "built.plot(ax=ax, label='Dynamic World Built up')\n",
        "\n",
        "du[1].ndui_austin.plot(ax=ax, label='NEXUS')"
      ],
      "metadata": {
        "id": "plxKRp2bmg2b"
      },
      "execution_count": null,
      "outputs": []
    },
    {
      "cell_type": "code",
      "source": [
        "fig, ax = plt.subplots(1, 1, figsize=(12, 10))\n"
      ],
      "metadata": {
        "id": "rlgr98SJm1jl"
      },
      "execution_count": null,
      "outputs": []
    },
    {
      "cell_type": "code",
      "source": [
        "built = built.rename({'year': 'time'})\n",
        "\n",
        "# Now you can proceed with the plotting\n",
        "fig, ax = plt.subplots(1, 1, figsize=(12, 10))\n",
        "\n",
        "# Normalize the 'built' data and plot\n",
        "built_normalized = ((built - built.mean(dim='time')) / built.std(dim='time')) * du[1].ndui_austin.std(dim='time').vl + du[1].ndui_austin.mean(dim='time')\n",
        "built_normalized.plot(ax=ax, label='Dynamic World Built up')\n",
        "\n",
        "# Plot 'du[1].ndui_austin'\n",
        "du[1].ndui_austin.plot(ax=ax, label='NEXUS')\n",
        "\n",
        "# Add labels, title, and legend\n",
        "ax.set_title('Comparison of Dynamic World Built up and NEXUS Data')\n",
        "ax.set_xlabel('Time')\n",
        "ax.set_ylabel('Normalized Value')\n",
        "ax.legend()\n",
        "\n",
        "plt.show()"
      ],
      "metadata": {
        "id": "Bo5LXtojn8Ra"
      },
      "execution_count": null,
      "outputs": []
    },
    {
      "cell_type": "code",
      "source": [
        "import seaborn as sns\n",
        "import matplotlib.pyplot as plt\n",
        "import pandas as pd\n",
        "\n",
        "# Rename the 'year' coordinate in 'built' to 'time' so it matches with 'du[1].ndui_austin'\n",
        "# built = built.rename({'year': 'time'})\n",
        "\n",
        "# Normalize the 'built' data\n",
        "built_normalized = ((built - built.mean(dim='time')) / built.std(dim='time')) * du[1].ndui_austin.std(dim='time') + du[1].ndui_austin.mean(dim='time')\n",
        "\n",
        "# Convert the datasets to pandas DataFrames for Seaborn plotting\n",
        "df_built = built_normalized.to_dataframe(name='Dynamic World Built up').reset_index()\n",
        "df_nexus = du[1].ndui_austin.to_dataframe(name='NEXUS').reset_index()\n",
        "\n",
        "# Combine the dataframes for easier plotting\n",
        "df_combined = pd.merge(df_built, df_nexus, on='time')\n",
        "\n",
        "# Plot using Seaborn\n",
        "plt.figure(figsize=(12, 8))\n",
        "sns.lineplot(x='time', y='Dynamic World Built up', data=df_combined, label='Dynamic World Built up')\n",
        "sns.lineplot(x='time', y='NEXUS', data=df_combined, label='NEXUS')\n",
        "\n",
        "# Add labels, title, and legend\n",
        "plt.title('Comparison of Dynamic World Built up and NEXUS Data')\n",
        "plt.xlabel('Time')\n",
        "plt.ylabel('Normalized Value')\n",
        "plt.legend()\n",
        "\n",
        "plt.show()"
      ],
      "metadata": {
        "id": "cv_sDWAXoXf-"
      },
      "execution_count": null,
      "outputs": []
    },
    {
      "cell_type": "code",
      "source": [
        "import xarray as xr\n",
        "import seaborn as sns\n",
        "import matplotlib.pyplot as plt\n",
        "import pandas as pd\n",
        "\n",
        "# Load the dataset\n",
        "ds_built = xr.open_dataset('/content/drive/MyDrive/earth_engine/dynamic_world_built_2015_2024.nc').mean(['x', 'y'])\n",
        "\n",
        "# Perform the normalization and scaling\n",
        "built = ((ds_built.built - ds_built.built.mean(dim='year'))/(ds_built.built.std(dim='year'))) * du[1].ndui_austin.std(dim='time') + du[1].ndui_austin.mean(dim='time')\n",
        "\n",
        "# Extract the values and time coordinates for both datasets\n",
        "built_ = built.values\n",
        "time_built = ds_built.year.values\n",
        "\n",
        "ndui_values = du[1].ndui_austin.values\n",
        "time_ndui = du[1].time.values\n",
        "\n",
        "# Convert to pandas DataFrames for Seaborn plotting\n",
        "df_built = pd.DataFrame({\n",
        "    'Time': time_built,\n",
        "    'Dynamic World Built up': built_\n",
        "})\n",
        "\n",
        "df_ndui = pd.DataFrame({\n",
        "    'Time': time_ndui,\n",
        "    'NEXUS': ndui_values\n",
        "})\n",
        "\n",
        "# Merge the DataFrames on the 'Time' column\n",
        "df_combined = pd.merge(df_built, df_ndui, on='Time', how='outer')\n",
        "\n",
        "# Plot using Seaborn\n",
        "plt.figure(figsize=(12, 8))\n",
        "sns.lineplot(x='Time', y='Dynamic World Built up', data=df_combined, label='Dynamic World Built up')\n",
        "sns.lineplot(x='Time', y='NEXUS', data=df_combined, label='NEXUS')\n",
        "\n",
        "# Customize the plot\n",
        "plt.title('Comparison of Dynamic World Built up and NEXUS Data over Time')\n",
        "plt.xlabel('Time')\n",
        "plt.ylabel('Normalized Value')\n",
        "plt.legend()\n",
        "\n",
        "plt.show()"
      ],
      "metadata": {
        "id": "HNLldhsqoiMH"
      },
      "execution_count": null,
      "outputs": []
    },
    {
      "cell_type": "code",
      "source": [
        "import xarray as xr\n",
        "import seaborn as sns\n",
        "import matplotlib.pyplot as plt\n",
        "import pandas as pd\n",
        "\n",
        "# Load the dataset\n",
        "ds_built = xr.open_dataset('/content/drive/MyDrive/earth_engine/dynamic_world_built_2015_2024.nc').mean(['x', 'y'])\n",
        "\n",
        "# Perform the normalization and scaling\n",
        "built = ((ds_built.built - ds_built.built.mean(dim='year'))/(ds_built.built.std(dim='year'))) * du[1].ndui_austin.std(dim='time') + du[1].ndui_austin.mean(dim='time')\n",
        "\n",
        "# Extract the values and time coordinates for both datasets\n",
        "built_ = built.values\n",
        "time_built = ds_built.year.values\n",
        "\n",
        "ndui_values = du[1].ndui_austin.values\n",
        "time_ndui = du[1].time.values\n",
        "\n",
        "# Convert the time_built (which is int) to datetime format to match time_ndui\n",
        "time_built = pd.to_datetime(time_built, format='%Y')\n",
        "\n",
        "# Convert to pandas DataFrames for Seaborn plotting\n",
        "df_built = pd.DataFrame({\n",
        "    'Time': time_built,\n",
        "    'Dynamic World Built up': built_\n",
        "})\n",
        "\n",
        "df_ndui = pd.DataFrame({\n",
        "    'Time': time_ndui,\n",
        "    'NEXUS': ndui_values\n",
        "})\n",
        "\n",
        "# Merge the DataFrames on the 'Time' column\n",
        "df_combined = pd.merge(df_built, df_ndui, on='Time', how='outer')\n",
        "\n",
        "# Plot using Seaborn\n",
        "plt.figure(figsize=(10, 6))\n",
        "sns.lineplot(x='Time', y='Dynamic World Built up', data=df_combined, label='Dynamic World Built up')\n",
        "sns.lineplot(x='Time', y='NEXUS', data=df_combined, label='NEXUS')\n",
        "\n",
        "# Customize the plot\n",
        "plt.title('Comparison of Dynamic World Built up and NEXUS Data over Time')\n",
        "plt.xlabel('Time')\n",
        "plt.legend()\n",
        "\n",
        "plt.show()"
      ],
      "metadata": {
        "id": "DGn5m3fPpIJA"
      },
      "execution_count": null,
      "outputs": []
    },
    {
      "cell_type": "code",
      "source": [
        "ds_built"
      ],
      "metadata": {
        "id": "I0nqCmRbpTl7"
      },
      "execution_count": null,
      "outputs": []
    },
    {
      "cell_type": "code",
      "source": [
        "import xarray as xr\n",
        "import matplotlib.pyplot as plt\n",
        "\n",
        "# Load the dataset\n",
        "ds_built = xr.open_dataset('/content/drive/MyDrive/earth_engine/dynamic_world_built_2015_2024.nc')\n",
        "\n",
        "# Select the area around UT Austin\n",
        "latitude = 30.2850\n",
        "longitude = -97.7335\n",
        "\n",
        "ds_built_selected = ds_built.built.mean(dim='year').sel(\n",
        "    y=slice(latitude + 0.01, latitude - 0.01),\n",
        "    x=slice(longitude - 0.01, longitude + 0.01)\n",
        ")\n",
        "\n",
        "# Plot the selected area\n",
        "plt.figure(figsize=(10, 8))\n",
        "ax = plt.gca()\n",
        "ds_built_selected.plot(ax=ax, cmap='tab20c')\n",
        "\n",
        "# Mark UT Austin Tower\n",
        "plt.plot(-97.7353, 30.2861, 'ro', markersize=8)  # Approximate coordinates\n",
        "plt.text(-97.7353, 30.2861, 'UT Austin Tower', color='black', fontsize=12)\n",
        "\n",
        "# Mark the garden (LBJ Presidential Library Garden)\n",
        "plt.plot(-97.7293, 30.2856, 'mo', markersize=8)  # Approximate coordinates\n",
        "plt.text(-97.7293, 30.2856, 'LBJ Library Garden', color='black', fontsize=12)\n",
        "\n",
        "# Mark the stadium (Darrell K Royal–Texas Memorial Stadium)\n",
        "plt.plot(-97.7320, 30.2838, 'go', markersize=8)  # Approximate coordinates\n",
        "plt.text(-97.7320, 30.2838, 'Stadium', color='black', fontsize=12)\n",
        "# Mark Hemphill Park\n",
        "plt.plot(-97.739, 30.2935, 'go', markersize=8)  # Approximate coordinates\n",
        "plt.text(-97.739, 30.2935, 'Hemphill Park', color='black', fontsize=12)\n",
        "\n",
        "# Mark Oakwood Cemetery\n",
        "plt.plot(-97.7255, 30.2761, 'ko', markersize=8)  # Approximate coordinates\n",
        "plt.text(-97.7255, 30.2761, 'Oakwood \\n Cemetery', color='black', fontsize=12)\n",
        "\n",
        "plt.title('Mean Built-Up Area around UT Austin (2015-2024)')\n",
        "plt.xlabel('Longitude')\n",
        "plt.ylabel('Latitude')\n",
        "plt.show()"
      ],
      "metadata": {
        "id": "vZ2hwil4qjUt"
      },
      "execution_count": null,
      "outputs": []
    },
    {
      "cell_type": "code",
      "source": [
        "!ls /content/drive/MyDrive/long_ndui/austin/ndui_austin_1999_2022.nc"
      ],
      "metadata": {
        "id": "-KAxWggcru6j"
      },
      "execution_count": null,
      "outputs": []
    },
    {
      "cell_type": "code",
      "source": [
        "ds_ndui = xr.open_dataset('/content/drive/MyDrive/long_ndui/austin/ndui_austin_1999_2022.nc')\n",
        "ds_ndui"
      ],
      "metadata": {
        "id": "zdJT_niAuDKn"
      },
      "execution_count": null,
      "outputs": []
    },
    {
      "cell_type": "code",
      "source": [
        "import xarray as xr\n",
        "import matplotlib.pyplot as plt\n",
        "\n",
        "# Load the dataset\n",
        "ds_ndui = xr.open_dataset('/content/drive/MyDrive/long_ndui/austin/ndui_austin_1999_2022.nc')\n",
        "\n",
        "# Select the area around UT Austin\n",
        "latitude = 30.2850\n",
        "longitude = -97.7335\n",
        "\n",
        "ds_built_selected = ds_ndui.ndui.mean(dim='time').sel(\n",
        "    lat=slice(latitude + 0.01, latitude - 0.01),\n",
        "    lon=slice(longitude - 0.01, longitude + 0.01)\n",
        ")\n",
        "\n",
        "# Plot the selected area\n",
        "plt.figure(figsize=(10, 8))\n",
        "ax = plt.gca()\n",
        "ds_built_selected.plot(ax=ax, cmap='tab20c')\n",
        "\n",
        "# Mark UT Austin Tower\n",
        "plt.plot(-97.7353, 30.2861, 'ro', markersize=8)  # Approximate coordinates\n",
        "plt.text(-97.7353, 30.2861, 'UT Austin Tower', color='black', fontsize=12)\n",
        "\n",
        "# Mark the garden (LBJ Presidential Library Garden)\n",
        "plt.plot(-97.7293, 30.2856, 'mo', markersize=8)  # Approximate coordinates\n",
        "plt.text(-97.7293, 30.2856, 'LBJ Library Garden', color='black', fontsize=12)\n",
        "\n",
        "# Mark the stadium (Darrell K Royal–Texas Memorial Stadium)\n",
        "plt.plot(-97.7320, 30.2838, 'go', markersize=8)  # Approximate coordinates\n",
        "plt.text(-97.7320, 30.2838, 'Stadium', color='black', fontsize=12)\n",
        "\n",
        "# Mark Hemphill Park\n",
        "plt.plot(-97.739, 30.2935, 'go', markersize=8)  # Approximate coordinates\n",
        "plt.text(-97.739, 30.2935, 'Hemphill Park', color='black', fontsize=12)\n",
        "\n",
        "# Mark Oakwood Cemetery\n",
        "plt.plot(-97.7255, 30.2761, 'ko', markersize=8)  # Approximate coordinates\n",
        "plt.text(-97.7255, 30.2761, 'Oakwood \\n Cemetery', color='black', fontsize=12)\n",
        "\n",
        "plt.title('Mean Built-Up Area around UT Austin (2015-2024)')\n",
        "plt.xlabel('Longitude')\n",
        "plt.ylabel('Latitude')\n",
        "plt.show()"
      ],
      "metadata": {
        "id": "w0fXXQYGuiJB"
      },
      "execution_count": null,
      "outputs": []
    },
    {
      "cell_type": "code",
      "source": [
        "import xarray as xr\n",
        "import matplotlib.pyplot as plt\n",
        "\n",
        "# Load the first dataset\n",
        "ds_built = xr.open_dataset('/content/drive/MyDrive/earth_engine/dynamic_world_built_2015_2024.nc')\n",
        "\n",
        "# Load the second dataset\n",
        "ds_ndui = xr.open_dataset('/content/drive/MyDrive/long_ndui/austin/ndui_austin_1999_2022.nc')\n",
        "\n",
        "# Select the area around UT Austin for both datasets\n",
        "latitude = 30.2850\n",
        "longitude = -97.7335\n",
        "\n",
        "ds_built_selected = ds_built.built.mean(dim='year').sel(\n",
        "    y=slice(latitude + 0.01, latitude - 0.01),\n",
        "    x=slice(longitude - 0.01, longitude + 0.01)\n",
        ")\n",
        "\n",
        "ds_ndui_selected = ds_ndui.ndui.mean(dim='time').sel(\n",
        "    lat=slice(latitude + 0.01, latitude - 0.01),\n",
        "    lon=slice(longitude - 0.01, longitude + 0.01)\n",
        ")\n",
        "\n",
        "# Create subplots\n",
        "fig, (ax1, ax2) = plt.subplots(1, 2, figsize=(20, 8))\n",
        "\n",
        "# Plot the first selected area (Built-Up Area)\n",
        "ds_built_selected.plot(ax=ax1, cmap='tab20c')\n",
        "ax1.plot(-97.7353, 30.2861, 'ro', markersize=8)\n",
        "ax1.text(-97.7353, 30.2861, 'UT Austin Tower', color='black', fontsize=12)\n",
        "ax1.plot(-97.7293, 30.2856, 'mo', markersize=8)\n",
        "ax1.text(-97.7293, 30.2856, 'LBJ Library Garden', color='black', fontsize=12)\n",
        "ax1.plot(-97.7320, 30.2838, 'go', markersize=8)\n",
        "ax1.text(-97.7320, 30.2838, 'Stadium', color='black', fontsize=12)\n",
        "ax1.plot(-97.739, 30.2935, 'go', markersize=8)\n",
        "ax1.text(-97.739, 30.2935, 'Hemphill Park', color='black', fontsize=12)\n",
        "ax1.plot(-97.7255, 30.2761, 'ko', markersize=8)\n",
        "ax1.text(-97.7255, 30.2761, 'Oakwood \\n Cemetery', color='black', fontsize=12)\n",
        "ax1.set_title('Mean Dynamic World Built-Up Area around UT Austin (2015-2024)')\n",
        "ax1.set_xlabel('Longitude')\n",
        "ax1.set_ylabel('Latitude')\n",
        "\n",
        "# Plot the second selected area (NDUI Data)\n",
        "ds_ndui_selected.plot(ax=ax2, cmap='tab20c')\n",
        "ax2.plot(-97.7353, 30.2861, 'ro', markersize=8)\n",
        "ax2.text(-97.7353, 30.2861, 'UT Austin Tower', color='black', fontsize=12)\n",
        "ax2.plot(-97.7293, 30.2856, 'mo', markersize=8)\n",
        "ax2.text(-97.7293, 30.2856, 'LBJ Library Garden', color='black', fontsize=12)\n",
        "ax2.plot(-97.7320, 30.2838, 'go', markersize=8)\n",
        "ax2.text(-97.7320, 30.2838, 'Stadium', color='black', fontsize=12)\n",
        "ax2.plot(-97.739, 30.2935, 'go', markersize=8)\n",
        "ax2.text(-97.739, 30.2935, 'Hemphill Park', color='black', fontsize=12)\n",
        "ax2.plot(-97.7255, 30.2761, 'ko', markersize=8)\n",
        "ax2.text(-97.7255, 30.2761, 'Oakwood \\n Cemetery', color='black', fontsize=12)\n",
        "ax2.set_title('Mean NDUI+ Data around UT Austin (1999-2022)')\n",
        "ax2.set_xlabel('Longitude')\n",
        "ax2.set_ylabel('Latitude')\n",
        "\n",
        "plt.tight_layout()\n",
        "plt.savefig('dynamic_world_validation.png', dpi=500)"
      ],
      "metadata": {
        "id": "P3ozNhyTurD5"
      },
      "execution_count": null,
      "outputs": []
    },
    {
      "cell_type": "code",
      "source": [
        "import xarray as xr\n",
        "import matplotlib.pyplot as plt\n",
        "\n",
        "# Load the first dataset\n",
        "ds_built = xr.open_dataset('/content/drive/MyDrive/earth_engine/dynamic_world_built_2015_2024.nc')\n",
        "\n",
        "# Load the second dataset\n",
        "ds_ndui = xr.open_dataset('/content/drive/MyDrive/long_ndui/austin/ndui_austin_1999_2022.nc')\n",
        "\n",
        "# Select the area around UT Austin for both datasets\n",
        "latitude = 30.2850\n",
        "longitude = -97.7335\n",
        "\n",
        "ds_built_selected = ds_built.built.mean(dim='year').sel(\n",
        "    y=slice(latitude + 0.01, latitude - 0.01),\n",
        "    x=slice(longitude - 0.01, longitude + 0.01)\n",
        ")\n",
        "\n",
        "ds_ndui_selected = ds_ndui.ndui.mean(dim='time').sel(\n",
        "    lat=slice(latitude + 0.01, latitude - 0.01),\n",
        "    lon=slice(longitude - 0.01, longitude + 0.01)\n",
        ")\n",
        "\n",
        "# Create subplots\n",
        "fig, (ax1, ax2) = plt.subplots(1, 2, figsize=(20, 8))\n",
        "\n",
        "# Increase font size for labels and title\n",
        "font_size = 16\n",
        "label_size = 14\n",
        "title_size = 22\n",
        "\n",
        "# Plot the first selected area (Built-Up Area)\n",
        "ds_built_selected.plot(ax=ax1, cmap='tab20c')\n",
        "ax1.plot(-97.7353, 30.2861, 'ro', markersize=12)\n",
        "ax1.text(-97.7353, 30.2861, 'UT Austin Tower', color='black', fontsize=font_size)\n",
        "ax1.plot(-97.7293, 30.2856, 'mo', markersize=12)\n",
        "ax1.text(-97.7293, 30.2856, 'LBJ Library Garden', color='black', fontsize=font_size)\n",
        "ax1.plot(-97.7320, 30.2838, 'go', markersize=12)\n",
        "ax1.text(-97.7320, 30.2838, 'Stadium', color='black', fontsize=font_size)\n",
        "ax1.plot(-97.739, 30.2935, 'go', markersize=12)\n",
        "ax1.text(-97.739, 30.2935, 'Hemphill Park', color='black', fontsize=font_size)\n",
        "ax1.plot(-97.7255, 30.2761, 'ko', markersize=12)\n",
        "ax1.text(-97.7255, 30.2761, 'Oakwood \\n Cemetery', color='black', fontsize=font_size)\n",
        "ax1.set_title('Mean Dynamic World Built-Up Area \\n around UT Austin (2015-2024)', fontsize=title_size)\n",
        "ax1.set_xlabel('Longitude', fontsize=label_size)\n",
        "ax1.set_ylabel('Latitude', fontsize=label_size)\n",
        "\n",
        "# Plot the second selected area (NDUI Data)\n",
        "ds_ndui_selected.plot(ax=ax2, cmap='tab20c')\n",
        "ax2.plot(-97.7353, 30.2861, 'ro', markersize=12)\n",
        "ax2.text(-97.7353, 30.2861, 'UT Austin Tower', color='black', fontsize=font_size)\n",
        "ax2.plot(-97.7293, 30.2856, 'mo', markersize=12)\n",
        "ax2.text(-97.7293, 30.2856, 'LBJ Library Garden', color='black', fontsize=font_size)\n",
        "ax2.plot(-97.7320, 30.2838, 'go', markersize=12)\n",
        "ax2.text(-97.7320, 30.2838, 'Stadium', color='black', fontsize=font_size)\n",
        "ax2.plot(-97.739, 30.2935, 'go', markersize=12)\n",
        "ax2.text(-97.739, 30.2935, 'Hemphill Park', color='black', fontsize=font_size)\n",
        "ax2.plot(-97.7255, 30.2761, 'ko', markersize=12)\n",
        "ax2.text(-97.7255, 30.2761, 'Oakwood \\n Cemetery', color='black', fontsize=font_size)\n",
        "ax2.set_title('Mean NDUI+ Data around \\n UT Austin (1999-2022)', fontsize=title_size)\n",
        "ax2.set_xlabel('Longitude', fontsize=label_size)\n",
        "ax2.set_ylabel('Latitude', fontsize=label_size)\n",
        "\n",
        "plt.tight_layout()\n",
        "plt.savefig('dynamic_world_validation.png', dpi=500)"
      ],
      "metadata": {
        "id": "isvL1SUexmJH"
      },
      "execution_count": null,
      "outputs": []
    },
    {
      "cell_type": "markdown",
      "source": [
        "# Urban expansion in Austin"
      ],
      "metadata": {
        "id": "MQwrfRYxpII1"
      }
    },
    {
      "cell_type": "code",
      "source": [
        "!ls /content/drive/MyDrive/long_ndui/austin/ndui_austin_1999_2022.nc"
      ],
      "metadata": {
        "id": "rW6Z3rkT4rFN"
      },
      "execution_count": null,
      "outputs": []
    },
    {
      "cell_type": "code",
      "source": [
        "import xarray as xr\n",
        "ds_austin = xr.open_dataset('/content/drive/MyDrive/long_ndui/austin/ndui_austin_1999_2022.nc').sel(time=slice('2015-01-01', '2022-12-31'))\n",
        "ds_austin"
      ],
      "metadata": {
        "id": "yB21b1m3pNHL"
      },
      "execution_count": null,
      "outputs": []
    },
    {
      "cell_type": "code",
      "source": [
        "!ls /content/drive/MyDrive/earth_engine/dynamic_world_built_2015_2024.nc"
      ],
      "metadata": {
        "id": "7rWS_WLWpVYD"
      },
      "execution_count": null,
      "outputs": []
    },
    {
      "cell_type": "code",
      "source": [
        "ds_austin"
      ],
      "metadata": {
        "id": "8pHAV9FIq0-h"
      },
      "execution_count": null,
      "outputs": []
    },
    {
      "cell_type": "code",
      "source": [
        "ds_austin.ndui.isel(time=0).plot()"
      ],
      "metadata": {
        "id": "Vr3PHQkxsDGB"
      },
      "execution_count": null,
      "outputs": []
    },
    {
      "cell_type": "code",
      "source": [
        "ds_built_up = xr.open_dataset('/content/drive/MyDrive/earth_engine/dynamic_world_built_2015_2024.nc').sel(year=slice(2015, 2022))\n",
        "ds_built_up"
      ],
      "metadata": {
        "id": "rBrYOl-JphG9"
      },
      "execution_count": null,
      "outputs": []
    },
    {
      "cell_type": "code",
      "source": [
        "ds_built_up_interp = ds_built_up.interp(\n",
        "    x=ds_austin.lon.values,\n",
        "    y=ds_austin.lat.values\n",
        ")"
      ],
      "metadata": {
        "id": "vZWTgcoErdd4"
      },
      "execution_count": null,
      "outputs": []
    },
    {
      "cell_type": "code",
      "source": [
        "ds_built_up_interp"
      ],
      "metadata": {
        "id": "aB2OZaKyro9p"
      },
      "execution_count": null,
      "outputs": []
    },
    {
      "cell_type": "code",
      "source": [
        "ds_austin['built_up_dw'] = (('time', 'lat', 'lon'), ds_built_up_interp.built.values)\n",
        "ds_austin"
      ],
      "metadata": {
        "id": "ESS29fk2sNsw"
      },
      "execution_count": null,
      "outputs": []
    },
    {
      "cell_type": "code",
      "source": [
        "ds_austin.built_up_dw.isel(time=2).sel(lon=slice(-97.8,-97.6)).sel(lat=slice(30.36,30.17)).plot()"
      ],
      "metadata": {
        "id": "YGqsQTj0pm3r"
      },
      "execution_count": null,
      "outputs": []
    },
    {
      "cell_type": "code",
      "source": [
        "ds_austin_small = ds_austin.sel(lon=slice(-97.8,-97.6)).sel(lat=slice(30.36,30.17))\n",
        "ds_austin_small"
      ],
      "metadata": {
        "id": "h4pK8eP2tJQP"
      },
      "execution_count": null,
      "outputs": []
    },
    {
      "cell_type": "code",
      "source": [
        "ds_austin_small['built_mask'] =  ds_austin_small.built_up_dw > 0.2\n",
        "ds_austin_small['ndui_filtered'] = ds_austin_small.ndui * ds_austin_small.built_mask"
      ],
      "metadata": {
        "id": "GkVX6a12tMZk"
      },
      "execution_count": null,
      "outputs": []
    },
    {
      "cell_type": "markdown",
      "source": [
        "# 2016, 2018, 2020, 2022"
      ],
      "metadata": {
        "id": "asPM3_hmp38t"
      }
    },
    {
      "cell_type": "code",
      "source": [
        "ds_austin_small.ndui_filtered.isel(time=7).plot()"
      ],
      "metadata": {
        "id": "EhRotecqqBAk"
      },
      "execution_count": null,
      "outputs": []
    },
    {
      "cell_type": "code",
      "source": [
        "ds_austin_small.ndui_filtered.isel(time=7).plot(cmap='gist_stern_r',vmin=0, vmax=1, extend='max')"
      ],
      "metadata": {
        "id": "PKdO78xhtq55"
      },
      "execution_count": null,
      "outputs": []
    },
    {
      "cell_type": "code",
      "source": [
        "ds_austin_small.ndui_filtered.isel(time=7).mean().values"
      ],
      "metadata": {
        "id": "VbvsCyrquC9C"
      },
      "execution_count": null,
      "outputs": []
    },
    {
      "cell_type": "code",
      "source": [
        "ds_austin_small.ndui_filtered.isel(time=1).mean()"
      ],
      "metadata": {
        "id": "tdHVcrZuuWve"
      },
      "execution_count": null,
      "outputs": []
    },
    {
      "cell_type": "code",
      "source": [
        "# Run once\n",
        "# !pip install rasterio netCDF4 wxee timm cartopy osmnx xarray pyresample\n",
        "# !apt-get install -y gdal-bin\n",
        "# !pip install gdal"
      ],
      "metadata": {
        "id": "lvwuGgAhvm9m"
      },
      "execution_count": null,
      "outputs": []
    },
    {
      "cell_type": "code",
      "source": [
        "import osmnx as ox\n",
        "import matplotlib.pyplot as plt\n",
        "import cartopy.crs as ccrs\n",
        "import xarray as xr\n",
        "import numpy as np\n",
        "import matplotlib.patheffects as PathEffects\n",
        "\n",
        "# Mock the dataset and mean values for plotting (this is because I don't have access to your specific dataset)\n",
        "time_steps = [1, 3, 5, 7]\n",
        "mean_ndui_values = [ds_austin_small.ndui_filtered.isel(time=1).mean().values, \\\n",
        "                    ds_austin_small.ndui_filtered.isel(time=3).mean().values, \\\n",
        "                    ds_austin_small.ndui_filtered.isel(time=5).mean().values, \\\n",
        "                    ds_austin_small.ndui_filtered.isel(time=7).mean().values]  # Example means for each timestep\n",
        "years = ['2016', '2018', '2020', '2022']  # Example years for each timestep\n",
        "\n",
        "# Setup for Austin, Texas, and roads\n",
        "city_name = 'Austin, Texas, USA'\n",
        "tags = {'highway': True}  # Retrieves all highway types\n",
        "\n",
        "# Get the road network within Austin\n",
        "road_network = ox.graph_from_place(city_name, network_type='all')\n",
        "\n",
        "# Convert road network to GeoDataFrame\n",
        "road_edges = ox.graph_to_gdfs(road_network, nodes=False, edges=True)\n",
        "\n",
        "# Filter for major roads (primary, secondary, tertiary)\n",
        "major_road_types = ['primary', 'secondary', 'tertiary']\n",
        "major_roads = road_edges[road_edges['highway'].isin(major_road_types)]\n",
        "\n",
        "# Important locations to plot (using arbitrary coordinates as placeholders)\n",
        "locations = {\n",
        "    \"Downtown\": (-97.7431, 30.2672),   # Longitude, Latitude of Downtown Austin\n",
        "    \"UT Austin\": (-97.7356, 30.2849),  # University of Texas Austin\n",
        "    \"Airport\": (-97.6663, 30.2020),    # Austin-Bergstrom International Airport\n",
        "    \"Zilker Park\": (-97.7725, 30.2669) # Zilker Metropolitan Park\n",
        "}"
      ],
      "metadata": {
        "id": "AoFs7LxuuYr2"
      },
      "execution_count": null,
      "outputs": []
    },
    {
      "cell_type": "code",
      "source": [
        "# Important locations to plot (using arbitrary coordinates as placeholders)\n",
        "locations = {\n",
        "  # Longitude, Latitude of Downtown Austin\n",
        "    \"UT Austin\": (-97.7356, 30.2849),  # University of Texas Austin\n",
        "    \"Airport\": (-97.6663, 30.2020),    # Austin-Bergstrom International Airport\n",
        "    \"Zilker Park\": (-97.7725, 30.2669) # Zilker Metropolitan Park\n",
        "}"
      ],
      "metadata": {
        "id": "M3R8T5gD1Wia"
      },
      "execution_count": null,
      "outputs": []
    },
    {
      "cell_type": "code",
      "source": [
        "# Start plotting\n",
        "import matplotlib.patheffects as PathEffects\n",
        "years = ['2016', '2018', '2020', '2022']\n",
        "fig, axes = plt.subplots(2, 2, figsize=(9, 8))\n",
        "fig.suptitle('Urban Expansion in Austin using NDUI+', fontsize=16)\n",
        "cnt = 1\n",
        "for i, (ax, time, mean_val, year) in enumerate(zip(axes.flat, time_steps, mean_ndui_values, years)):\n",
        "\n",
        "    major_roads.plot(ax=ax, edgecolor='black', linewidth=1, alpha=0.7)\n",
        "\n",
        "    ds_austin_small.ndui_filtered.isel(time=cnt).plot(cmap='gist_stern_r', vmin=0, vmax=1, ax=ax, extend='max')\n",
        "    # Overlay major roads\n",
        "\n",
        "\n",
        "    # Mark important locations\n",
        "    for location, coords in locations.items():\n",
        "        # ax.plot(coords[0], coords[1], 'bx')  # Plot points\n",
        "        # ax.text(coords[0] + 0.01, coords[1], location, fontsize=12, color='black')\n",
        "        ax.plot(coords[0], coords[1], 'bx', markersize=10)  # Plot black 'x' marker\n",
        "\n",
        "        # Add text with white outline for visibility\n",
        "        text = ax.text(coords[0] + 0.01, coords[1], location, fontsize=12, color='black',\n",
        "                       path_effects=[PathEffects.withStroke(linewidth=3, foreground=\"white\")])\n",
        "\n",
        "\n",
        "    ax.set_title(f'{year} (Mean NDUI+ {mean_val:.2f})')\n",
        "    cnt=cnt+2\n",
        "# Show plot\n",
        "plt.tight_layout()\n",
        "plt.savefig('urban_expansion.png')"
      ],
      "metadata": {
        "id": "oxp0p8YevMrt"
      },
      "execution_count": null,
      "outputs": []
    },
    {
      "cell_type": "code",
      "source": [
        "import matplotlib.patheffects as PathEffects\n",
        "import matplotlib.pyplot as plt\n",
        "\n",
        "# Define the locations and their coordinates with numbers for labeling\n",
        "locations = {\n",
        "    1: (\"Downtown\", (-97.7431, 30.2672)),    # Longitude, Latitude of Downtown Austin\n",
        "    2: (\"UT Austin\", (-97.7356, 30.2849)),   # University of Texas Austin\n",
        "    3: (\"Airport\", (-97.6663, 30.2020)),     # Austin-Bergstrom International Airport\n",
        "    4: (\"Zilker Park\", (-97.7725, 30.2669))  # Zilker Metropolitan Park\n",
        "}\n",
        "\n",
        "# Define years and mock mean NDUI+ values\n",
        "years = ['2016', '2018', '2020', '2022']\n",
        "time_steps = [1, 3, 5, 7]\n",
        "mean_ndui_values = [ds_austin_small.ndui_filtered.isel(time=1).mean().values, \\\n",
        "                    ds_austin_small.ndui_filtered.isel(time=3).mean().values, \\\n",
        "                    ds_austin_small.ndui_filtered.isel(time=5).mean().values, \\\n",
        "                    ds_austin_small.ndui_filtered.isel(time=7).mean().values]   # Example mean NDUI+ values\n",
        "\n",
        "# Set up the figure and axes\n",
        "fig, axes = plt.subplots(2, 2, figsize=(9, 8))\n",
        "fig.suptitle('Urban Expansion in Austin using NDUI+', fontsize=16)\n",
        "\n",
        "cnt = 1\n",
        "for i, (ax, time, mean_val, year) in enumerate(zip(axes.flat, time_steps, mean_ndui_values, years)):\n",
        "    # Plot major roads\n",
        "    major_roads.plot(ax=ax, edgecolor='black', linewidth=0.5, alpha=0.5)\n",
        "\n",
        "    # Plot NDUI+ data (replace with your actual data plot)\n",
        "    ds_austin_small.ndui_filtered.isel(time=cnt).plot(cmap='gist_stern_r', vmin=0, vmax=1, ax=ax, extend='max')\n",
        "\n",
        "    ax.set_title(f'{year} (Mean NDUI+ {mean_val:.2f})')\n",
        "\n",
        "    cnt += 2\n",
        "    # # Mark important locations with numbers instead of names\n",
        "for num, (location, coords) in locations.items():\n",
        "    # Plot numbered markers with black 'x' for the location\n",
        "    axes[0,1].plot(coords[0], coords[1], 'bx', markersize=10)\n",
        "\n",
        "    # Add the number instead of text label, with a white outline for visibility\n",
        "    axes[0,1].text(coords[0], coords[1], str(num), fontsize=9, color='black', ha='center', va='center',\n",
        "            path_effects=[PathEffects.withStroke(linewidth=3, foreground=\"white\")])\n",
        "\n",
        "# # Create a custom legend mapping numbers to location names\n",
        "legend_labels = [f'{num}: {location}' for num, (location, _) in locations.items()]\n",
        "legend_handles = [plt.Line2D([0], [0], marker='x', color='w', markerfacecolor='b', markersize=10, label=label)\n",
        "                  for label in legend_labels]\n",
        "\n",
        "# Add the legend to the figure\n",
        "fig.legend(handles=legend_handles, loc='lower center', ncol=2, fontsize=12)\n",
        "\n",
        "# Adjust layout and save the plot\n",
        "plt.tight_layout()  # Adjust for space for the legend\n",
        "plt.savefig('urban_expansion.png')"
      ],
      "metadata": {
        "id": "u26SBMll1-sz"
      },
      "execution_count": null,
      "outputs": []
    },
    {
      "cell_type": "code",
      "source": [
        "import matplotlib.patheffects as PathEffects\n",
        "import matplotlib.pyplot as plt\n",
        "\n",
        "# Define the locations and their coordinates with numbers for labeling\n",
        "locations = {\n",
        "    1: (\"Downtown\", (-97.7431, 30.2672)),    # Longitude, Latitude of Downtown Austin\n",
        "    2: (\"UT Austin\", (-97.7356, 30.2849)),   # University of Texas Austin\n",
        "    3: (\"Airport\", (-97.6663, 30.2020)),     # Austin-Bergstrom International Airport\n",
        "    4: (\"Zilker Park\", (-97.7725, 30.2669))  # Zilker Metropolitan Park\n",
        "}\n",
        "\n",
        "# Define years and actual mean NDUI+ values from the dataset\n",
        "years = ['2016', '2018', '2020', '2022']\n",
        "time_steps = [1, 3, 5, 7]\n",
        "mean_ndui_values = [ds_austin_small.ndui_filtered.isel(time=1).mean().values,\n",
        "                    ds_austin_small.ndui_filtered.isel(time=3).mean().values,\n",
        "                    ds_austin_small.ndui_filtered.isel(time=5).mean().values,\n",
        "                    ds_austin_small.ndui_filtered.isel(time=7).mean().values]\n",
        "\n",
        "# Set up the figure and axes\n",
        "fig, axes = plt.subplots(2, 2, figsize=(9, 8))\n",
        "fig.suptitle('Urban Expansion in Austin using NDUI+', fontsize=16)\n",
        "\n",
        "cnt = 1\n",
        "for i, (ax, time, mean_val, year) in enumerate(zip(axes.flat, time_steps, mean_ndui_values, years)):\n",
        "    # Plot major roads\n",
        "    major_roads.plot(ax=ax, edgecolor='black', linewidth=0.5, alpha=0.5)\n",
        "\n",
        "    # Plot NDUI+ data\n",
        "    ds_austin_small.ndui_filtered.isel(time=cnt).plot(cmap='gist_stern_r', vmin=0, vmax=1, ax=ax, extend='max')\n",
        "\n",
        "    ax.set_title(f'{year} (Mean NDUI+ {mean_val:.2f})')\n",
        "    cnt += 2\n",
        "\n",
        "# Mark important locations with numbers instead of names\n",
        "for num, (location, coords) in locations.items():\n",
        "    # Plot numbered markers with black 'x' for the location\n",
        "    axes[0, 1].plot(coords[0], coords[1], 'bx', markersize=10)\n",
        "\n",
        "    # Add the number with a white outline for visibility\n",
        "    axes[0, 1].text(coords[0], coords[1], str(num), fontsize=9, color='black', ha='center', va='center',\n",
        "            path_effects=[PathEffects.withStroke(linewidth=3, foreground=\"white\")])\n",
        "\n",
        "# Create a custom legend mapping numbers to location names\n",
        "legend_labels = [f'{num}: {location}' for num, (location, _) in locations.items()]\n",
        "legend_handles = [plt.Line2D([0], [0], marker='x', color='w', markerfacecolor='b', markersize=10, label=label)\n",
        "                  for label in legend_labels]\n",
        "\n",
        "# Add the legend to the figure with a slight lower position\n",
        "fig.legend(handles=legend_handles, loc='upper center', bbox_to_anchor=(0.5, 0.06), ncol=2, fontsize=12)\n",
        "\n",
        "# Adjust layout and save the plot\n",
        "plt.tight_layout(rect=[0, 0.05, 1, 1])  # Adjust layout to make room for the lowered legend\n",
        "plt.savefig('urban_expansion.png')"
      ],
      "metadata": {
        "id": "dDrui0993T4n"
      },
      "execution_count": null,
      "outputs": []
    },
    {
      "cell_type": "code",
      "source": [
        "ds_austin_small['ndui_change'] = ((ds_austin_small.ndui_filtered - ds_austin_small.ndui_filtered.isel(time=1)) / ds_austin_small.ndui_filtered.isel(time=1))*100\n",
        "ds_austin_small"
      ],
      "metadata": {
        "id": "ykOgH4Ru4zG_"
      },
      "execution_count": null,
      "outputs": []
    },
    {
      "cell_type": "code",
      "source": [
        "import matplotlib.patheffects as PathEffects\n",
        "import matplotlib.pyplot as plt\n",
        "\n",
        "# Define the locations and their coordinates with numbers for labeling\n",
        "locations = {\n",
        "    1: (\"Downtown\", (-97.7431, 30.2672)),    # Longitude, Latitude of Downtown Austin\n",
        "    2: (\"UT Austin\", (-97.7356, 30.2849)),   # University of Texas Austin\n",
        "    3: (\"Airport\", (-97.6663, 30.2020)),     # Austin-Bergstrom International Airport\n",
        "    4: (\"Zilker Park\", (-97.7725, 30.2669))  # Zilker Metropolitan Park\n",
        "}\n",
        "ds_plot = [ds_austin_small.ndui_filtered.isel(time=1), \\\n",
        "           ds_austin_small['ndui_change'].isel(time=3), \\\n",
        "           ds_austin_small['ndui_change'].isel(time=5), \\\n",
        "           ds_austin_small['ndui_change'].isel(time=7)]\n",
        "# Define years and actual mean NDUI+ values from the dataset\n",
        "years = ['2016', '2018', '2020', '2022']\n",
        "time_steps = [1, 3, 5, 7]\n",
        "mean_ndui_values = [ds_austin_small.ndui_filtered.isel(time=1).mean().values,\n",
        "                    np.mean((ds_plot[1].values[np.isfinite(ds_plot[2].values)])),\n",
        "                    np.mean((ds_plot[2].values[np.isfinite(ds_plot[2].values)])),\n",
        "                    np.mean((ds_plot[3].values[np.isfinite(ds_plot[3].values)]))]\n",
        "\n",
        "# Set up the figure and axes\n",
        "fig, ax = plt.subplots(2, 2, figsize=(9, 8))\n",
        "fig.suptitle('Urban Expansion in Austin using NDUI+', fontsize=16)\n",
        "\n",
        "im = ds_plot[0].plot(ax=ax[0,0], cmap='gist_stern_r', vmin=0, vmax=1, extend='max')\n",
        "im.colorbar.set_label('')\n",
        "im = ds_plot[1].plot(ax=ax[0,1], vmin=0, vmax=100, extend='max', cmap='Reds', label='%')\n",
        "im.colorbar.set_label('%')\n",
        "im = ds_plot[2].plot(ax=ax[1,0], vmin=0, vmax=100, extend='max', cmap='Reds')\n",
        "im.colorbar.set_label('%')\n",
        "im = ds_plot[3].plot(ax=ax[1,1], vmin=0, vmax=100, extend='max', cmap='Reds')\n",
        "im.colorbar.set_label('%')\n",
        "\n",
        "cnt = 0\n",
        "# #for i, (ax, time, mean_val, year) in enumerate(zip(axes.flat, time_steps, mean_ndui_values, years)):\n",
        "for i in range(2):\n",
        "    for j in range(2):\n",
        "        # Plot major roads\n",
        "        major_roads.plot(ax=ax[i,j], edgecolor='black', linewidth=0.5, alpha=0.5)\n",
        "\n",
        "#         # Plot NDUI+ data\n",
        "#         #ds_austin_small.ndui_filtered.isel(time=cnt).plot(cmap='gist_stern_r', vmin=0, vmax=1, ax=ax, extend='max')\n",
        "#         ds_plot[cnt].plot(ax=ax[i,j])\n",
        "        if i==0 and j==0:\n",
        "            ax[i,j].set_title(f'{years[cnt]} (Mean NDUI+ {mean_ndui_values[cnt]:.2f})')\n",
        "        else:\n",
        "            ax[i,j].set_title(f'{years[cnt]} (Mean change in NDUI+ {mean_ndui_values[cnt]:.2f}'+' %)')\n",
        "        cnt += 1\n",
        "\n",
        "# # Mark important locations with numbers instead of names\n",
        "for num, (location, coords) in locations.items():\n",
        "    # Plot numbered markers with black 'x' for the location\n",
        "    #ax[0, 1].plot(coords[0], coords[1], 'bx', markersize=10)\n",
        "\n",
        "    # Add the number with a white outline for visibility\n",
        "    ax[0, 1].text(coords[0], coords[1], str(num), fontsize=9, color='black', ha='center', va='center',\n",
        "            path_effects=[PathEffects.withStroke(linewidth=3, foreground=\"white\")])\n",
        "\n",
        "# # Create a custom legend mapping numbers to location names\n",
        "legend_labels = [f'{num}: {location}' for num, (location, _) in locations.items()]\n",
        "legend_handles = [plt.Line2D([0], [0], marker='x', color='w', markerfacecolor='b', markersize=10, label=label)\n",
        "                  for label in legend_labels]\n",
        "\n",
        "# # Add the legend to the figure with a slight lower position\n",
        "fig.legend(handles=legend_handles, loc='upper center', bbox_to_anchor=(0.5, 0.1), ncol=2, fontsize=12)\n",
        "\n",
        "# # Adjust layout and save the plot\n",
        "plt.tight_layout(rect=[0, 0.1, 1, 1])  # Adjust layout to make room for the lowered legend\n",
        "plt.savefig('urban_expansion_percent.png')"
      ],
      "metadata": {
        "id": "k5cn2oSS94TN"
      },
      "execution_count": null,
      "outputs": []
    },
    {
      "cell_type": "code",
      "source": [
        "np.mean((ds_plot[3].values[np.isfinite(ds_plot[3].values)]))"
      ],
      "metadata": {
        "id": "RsHUFupy6QsH"
      },
      "execution_count": null,
      "outputs": []
    },
    {
      "cell_type": "code",
      "source": [],
      "metadata": {
        "id": "z9WRSr67A_Ws"
      },
      "execution_count": null,
      "outputs": []
    }
  ]
}